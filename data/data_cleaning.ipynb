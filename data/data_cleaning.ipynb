{
 "cells": [
  {
   "cell_type": "markdown",
   "metadata": {},
   "source": [
    "# 0. Import data and packages"
   ]
  },
  {
   "cell_type": "code",
   "execution_count": 89,
   "metadata": {
    "pycharm": {
     "name": "#%%\n"
    }
   },
   "outputs": [],
   "source": [
    "import pandas as pd\n",
    "import numpy as np"
   ]
  },
  {
   "cell_type": "code",
   "execution_count": 90,
   "metadata": {
    "pycharm": {
     "name": "#%%\n"
    }
   },
   "outputs": [],
   "source": [
    "df_2022 = pd.read_csv('external/2022.csv')\n",
    "df_2023 = pd.read_csv('external/2023.csv')"
   ]
  },
  {
   "cell_type": "code",
   "execution_count": 91,
   "metadata": {
    "pycharm": {
     "name": "#%%\n"
    }
   },
   "outputs": [
    {
     "data": {
      "text/html": [
       "<div>\n",
       "<style scoped>\n",
       "    .dataframe tbody tr th:only-of-type {\n",
       "        vertical-align: middle;\n",
       "    }\n",
       "\n",
       "    .dataframe tbody tr th {\n",
       "        vertical-align: top;\n",
       "    }\n",
       "\n",
       "    .dataframe thead th {\n",
       "        text-align: right;\n",
       "    }\n",
       "</style>\n",
       "<table border=\"1\" class=\"dataframe\">\n",
       "  <thead>\n",
       "    <tr style=\"text-align: right;\">\n",
       "      <th></th>\n",
       "      <th>Rk</th>\n",
       "      <th>Player</th>\n",
       "      <th>Pos</th>\n",
       "      <th>Age</th>\n",
       "      <th>Tm</th>\n",
       "      <th>G</th>\n",
       "      <th>GS</th>\n",
       "      <th>MP</th>\n",
       "      <th>FG</th>\n",
       "      <th>FGA</th>\n",
       "      <th>...</th>\n",
       "      <th>ORB</th>\n",
       "      <th>DRB</th>\n",
       "      <th>TRB</th>\n",
       "      <th>AST</th>\n",
       "      <th>STL</th>\n",
       "      <th>BLK</th>\n",
       "      <th>TOV</th>\n",
       "      <th>PF</th>\n",
       "      <th>PTS</th>\n",
       "      <th>Player-additional</th>\n",
       "    </tr>\n",
       "  </thead>\n",
       "  <tbody>\n",
       "    <tr>\n",
       "      <th>0</th>\n",
       "      <td>1</td>\n",
       "      <td>Precious Achiuwa</td>\n",
       "      <td>C</td>\n",
       "      <td>22</td>\n",
       "      <td>TOR</td>\n",
       "      <td>73</td>\n",
       "      <td>28</td>\n",
       "      <td>1725</td>\n",
       "      <td>265</td>\n",
       "      <td>603</td>\n",
       "      <td>...</td>\n",
       "      <td>146</td>\n",
       "      <td>327</td>\n",
       "      <td>473</td>\n",
       "      <td>82</td>\n",
       "      <td>37</td>\n",
       "      <td>41</td>\n",
       "      <td>84</td>\n",
       "      <td>151</td>\n",
       "      <td>664</td>\n",
       "      <td>achiupr01</td>\n",
       "    </tr>\n",
       "    <tr>\n",
       "      <th>1</th>\n",
       "      <td>2</td>\n",
       "      <td>Steven Adams</td>\n",
       "      <td>C</td>\n",
       "      <td>28</td>\n",
       "      <td>MEM</td>\n",
       "      <td>76</td>\n",
       "      <td>75</td>\n",
       "      <td>1999</td>\n",
       "      <td>210</td>\n",
       "      <td>384</td>\n",
       "      <td>...</td>\n",
       "      <td>349</td>\n",
       "      <td>411</td>\n",
       "      <td>760</td>\n",
       "      <td>256</td>\n",
       "      <td>65</td>\n",
       "      <td>60</td>\n",
       "      <td>115</td>\n",
       "      <td>153</td>\n",
       "      <td>528</td>\n",
       "      <td>adamsst01</td>\n",
       "    </tr>\n",
       "    <tr>\n",
       "      <th>2</th>\n",
       "      <td>3</td>\n",
       "      <td>Bam Adebayo</td>\n",
       "      <td>C</td>\n",
       "      <td>24</td>\n",
       "      <td>MIA</td>\n",
       "      <td>56</td>\n",
       "      <td>56</td>\n",
       "      <td>1825</td>\n",
       "      <td>406</td>\n",
       "      <td>729</td>\n",
       "      <td>...</td>\n",
       "      <td>137</td>\n",
       "      <td>427</td>\n",
       "      <td>564</td>\n",
       "      <td>190</td>\n",
       "      <td>80</td>\n",
       "      <td>44</td>\n",
       "      <td>148</td>\n",
       "      <td>171</td>\n",
       "      <td>1068</td>\n",
       "      <td>adebaba01</td>\n",
       "    </tr>\n",
       "    <tr>\n",
       "      <th>3</th>\n",
       "      <td>4</td>\n",
       "      <td>Santi Aldama</td>\n",
       "      <td>PF</td>\n",
       "      <td>21</td>\n",
       "      <td>MEM</td>\n",
       "      <td>32</td>\n",
       "      <td>0</td>\n",
       "      <td>360</td>\n",
       "      <td>53</td>\n",
       "      <td>132</td>\n",
       "      <td>...</td>\n",
       "      <td>33</td>\n",
       "      <td>54</td>\n",
       "      <td>87</td>\n",
       "      <td>21</td>\n",
       "      <td>6</td>\n",
       "      <td>10</td>\n",
       "      <td>16</td>\n",
       "      <td>36</td>\n",
       "      <td>132</td>\n",
       "      <td>aldamsa01</td>\n",
       "    </tr>\n",
       "    <tr>\n",
       "      <th>4</th>\n",
       "      <td>5</td>\n",
       "      <td>LaMarcus Aldridge</td>\n",
       "      <td>C</td>\n",
       "      <td>36</td>\n",
       "      <td>BRK</td>\n",
       "      <td>47</td>\n",
       "      <td>12</td>\n",
       "      <td>1050</td>\n",
       "      <td>252</td>\n",
       "      <td>458</td>\n",
       "      <td>...</td>\n",
       "      <td>73</td>\n",
       "      <td>185</td>\n",
       "      <td>258</td>\n",
       "      <td>42</td>\n",
       "      <td>14</td>\n",
       "      <td>47</td>\n",
       "      <td>44</td>\n",
       "      <td>78</td>\n",
       "      <td>607</td>\n",
       "      <td>aldrila01</td>\n",
       "    </tr>\n",
       "  </tbody>\n",
       "</table>\n",
       "<p>5 rows × 31 columns</p>\n",
       "</div>"
      ],
      "text/plain": [
       "   Rk             Player Pos  Age   Tm   G  GS    MP   FG  FGA  ...  ORB  DRB  \\\n",
       "0   1   Precious Achiuwa   C   22  TOR  73  28  1725  265  603  ...  146  327   \n",
       "1   2       Steven Adams   C   28  MEM  76  75  1999  210  384  ...  349  411   \n",
       "2   3        Bam Adebayo   C   24  MIA  56  56  1825  406  729  ...  137  427   \n",
       "3   4       Santi Aldama  PF   21  MEM  32   0   360   53  132  ...   33   54   \n",
       "4   5  LaMarcus Aldridge   C   36  BRK  47  12  1050  252  458  ...   73  185   \n",
       "\n",
       "   TRB  AST  STL  BLK  TOV   PF   PTS  Player-additional  \n",
       "0  473   82   37   41   84  151   664          achiupr01  \n",
       "1  760  256   65   60  115  153   528          adamsst01  \n",
       "2  564  190   80   44  148  171  1068          adebaba01  \n",
       "3   87   21    6   10   16   36   132          aldamsa01  \n",
       "4  258   42   14   47   44   78   607          aldrila01  \n",
       "\n",
       "[5 rows x 31 columns]"
      ]
     },
     "execution_count": 91,
     "metadata": {},
     "output_type": "execute_result"
    }
   ],
   "source": [
    "df_2022.head()"
   ]
  },
  {
   "cell_type": "code",
   "execution_count": 92,
   "metadata": {
    "pycharm": {
     "name": "#%%\n"
    }
   },
   "outputs": [
    {
     "data": {
      "text/html": [
       "<div>\n",
       "<style scoped>\n",
       "    .dataframe tbody tr th:only-of-type {\n",
       "        vertical-align: middle;\n",
       "    }\n",
       "\n",
       "    .dataframe tbody tr th {\n",
       "        vertical-align: top;\n",
       "    }\n",
       "\n",
       "    .dataframe thead th {\n",
       "        text-align: right;\n",
       "    }\n",
       "</style>\n",
       "<table border=\"1\" class=\"dataframe\">\n",
       "  <thead>\n",
       "    <tr style=\"text-align: right;\">\n",
       "      <th></th>\n",
       "      <th>Rk</th>\n",
       "      <th>Player</th>\n",
       "      <th>Pos</th>\n",
       "      <th>Age</th>\n",
       "      <th>Tm</th>\n",
       "      <th>G</th>\n",
       "      <th>GS</th>\n",
       "      <th>MP</th>\n",
       "      <th>FG</th>\n",
       "      <th>FGA</th>\n",
       "      <th>...</th>\n",
       "      <th>ORB</th>\n",
       "      <th>DRB</th>\n",
       "      <th>TRB</th>\n",
       "      <th>AST</th>\n",
       "      <th>STL</th>\n",
       "      <th>BLK</th>\n",
       "      <th>TOV</th>\n",
       "      <th>PF</th>\n",
       "      <th>PTS</th>\n",
       "      <th>Player-additional</th>\n",
       "    </tr>\n",
       "  </thead>\n",
       "  <tbody>\n",
       "    <tr>\n",
       "      <th>0</th>\n",
       "      <td>1</td>\n",
       "      <td>Precious Achiuwa</td>\n",
       "      <td>C</td>\n",
       "      <td>23</td>\n",
       "      <td>TOR</td>\n",
       "      <td>55</td>\n",
       "      <td>12</td>\n",
       "      <td>1140</td>\n",
       "      <td>196</td>\n",
       "      <td>404</td>\n",
       "      <td>...</td>\n",
       "      <td>100</td>\n",
       "      <td>228</td>\n",
       "      <td>328</td>\n",
       "      <td>50</td>\n",
       "      <td>31</td>\n",
       "      <td>30</td>\n",
       "      <td>59</td>\n",
       "      <td>102</td>\n",
       "      <td>508</td>\n",
       "      <td>achiupr01</td>\n",
       "    </tr>\n",
       "    <tr>\n",
       "      <th>1</th>\n",
       "      <td>2</td>\n",
       "      <td>Steven Adams</td>\n",
       "      <td>C</td>\n",
       "      <td>29</td>\n",
       "      <td>MEM</td>\n",
       "      <td>42</td>\n",
       "      <td>42</td>\n",
       "      <td>1133</td>\n",
       "      <td>157</td>\n",
       "      <td>263</td>\n",
       "      <td>...</td>\n",
       "      <td>214</td>\n",
       "      <td>271</td>\n",
       "      <td>485</td>\n",
       "      <td>97</td>\n",
       "      <td>36</td>\n",
       "      <td>46</td>\n",
       "      <td>79</td>\n",
       "      <td>98</td>\n",
       "      <td>361</td>\n",
       "      <td>adamsst01</td>\n",
       "    </tr>\n",
       "    <tr>\n",
       "      <th>2</th>\n",
       "      <td>3</td>\n",
       "      <td>Bam Adebayo</td>\n",
       "      <td>C</td>\n",
       "      <td>25</td>\n",
       "      <td>MIA</td>\n",
       "      <td>75</td>\n",
       "      <td>75</td>\n",
       "      <td>2598</td>\n",
       "      <td>602</td>\n",
       "      <td>1114</td>\n",
       "      <td>...</td>\n",
       "      <td>184</td>\n",
       "      <td>504</td>\n",
       "      <td>688</td>\n",
       "      <td>240</td>\n",
       "      <td>88</td>\n",
       "      <td>61</td>\n",
       "      <td>187</td>\n",
       "      <td>208</td>\n",
       "      <td>1529</td>\n",
       "      <td>adebaba01</td>\n",
       "    </tr>\n",
       "    <tr>\n",
       "      <th>3</th>\n",
       "      <td>4</td>\n",
       "      <td>Ochai Agbaji</td>\n",
       "      <td>SG</td>\n",
       "      <td>22</td>\n",
       "      <td>UTA</td>\n",
       "      <td>59</td>\n",
       "      <td>22</td>\n",
       "      <td>1209</td>\n",
       "      <td>165</td>\n",
       "      <td>386</td>\n",
       "      <td>...</td>\n",
       "      <td>43</td>\n",
       "      <td>78</td>\n",
       "      <td>121</td>\n",
       "      <td>67</td>\n",
       "      <td>16</td>\n",
       "      <td>15</td>\n",
       "      <td>41</td>\n",
       "      <td>99</td>\n",
       "      <td>467</td>\n",
       "      <td>agbajoc01</td>\n",
       "    </tr>\n",
       "    <tr>\n",
       "      <th>4</th>\n",
       "      <td>5</td>\n",
       "      <td>Santi Aldama</td>\n",
       "      <td>PF</td>\n",
       "      <td>22</td>\n",
       "      <td>MEM</td>\n",
       "      <td>77</td>\n",
       "      <td>20</td>\n",
       "      <td>1682</td>\n",
       "      <td>247</td>\n",
       "      <td>525</td>\n",
       "      <td>...</td>\n",
       "      <td>85</td>\n",
       "      <td>286</td>\n",
       "      <td>371</td>\n",
       "      <td>97</td>\n",
       "      <td>45</td>\n",
       "      <td>48</td>\n",
       "      <td>60</td>\n",
       "      <td>143</td>\n",
       "      <td>696</td>\n",
       "      <td>aldamsa01</td>\n",
       "    </tr>\n",
       "  </tbody>\n",
       "</table>\n",
       "<p>5 rows × 31 columns</p>\n",
       "</div>"
      ],
      "text/plain": [
       "   Rk            Player Pos  Age   Tm   G  GS    MP   FG   FGA  ...  ORB  DRB  \\\n",
       "0   1  Precious Achiuwa   C   23  TOR  55  12  1140  196   404  ...  100  228   \n",
       "1   2      Steven Adams   C   29  MEM  42  42  1133  157   263  ...  214  271   \n",
       "2   3       Bam Adebayo   C   25  MIA  75  75  2598  602  1114  ...  184  504   \n",
       "3   4      Ochai Agbaji  SG   22  UTA  59  22  1209  165   386  ...   43   78   \n",
       "4   5      Santi Aldama  PF   22  MEM  77  20  1682  247   525  ...   85  286   \n",
       "\n",
       "   TRB  AST  STL  BLK  TOV   PF   PTS  Player-additional  \n",
       "0  328   50   31   30   59  102   508          achiupr01  \n",
       "1  485   97   36   46   79   98   361          adamsst01  \n",
       "2  688  240   88   61  187  208  1529          adebaba01  \n",
       "3  121   67   16   15   41   99   467          agbajoc01  \n",
       "4  371   97   45   48   60  143   696          aldamsa01  \n",
       "\n",
       "[5 rows x 31 columns]"
      ]
     },
     "execution_count": 92,
     "metadata": {},
     "output_type": "execute_result"
    }
   ],
   "source": [
    "df_2023.head()"
   ]
  },
  {
   "cell_type": "code",
   "execution_count": 93,
   "metadata": {
    "pycharm": {
     "name": "#%%\n"
    }
   },
   "outputs": [
    {
     "name": "stdout",
     "output_type": "stream",
     "text": [
      "Rk\n",
      "Player\n",
      "Pos\n",
      "Age\n",
      "Tm\n",
      "G\n",
      "GS\n",
      "MP\n",
      "FG\n",
      "FGA\n",
      "FG%\n",
      "3P\n",
      "3PA\n",
      "3P%\n",
      "2P\n",
      "2PA\n",
      "2P%\n",
      "eFG%\n",
      "FT\n",
      "FTA\n",
      "FT%\n",
      "ORB\n",
      "DRB\n",
      "TRB\n",
      "AST\n",
      "STL\n",
      "BLK\n",
      "TOV\n",
      "PF\n",
      "PTS\n",
      "Player-additional\n"
     ]
    }
   ],
   "source": [
    "for col in df_2022:\n",
    "    print(col)"
   ]
  },
  {
   "cell_type": "markdown",
   "metadata": {},
   "source": [
    "# 1. Drop irrelvant columns"
   ]
  },
  {
   "cell_type": "code",
   "execution_count": 94,
   "metadata": {
    "pycharm": {
     "name": "#%%\n"
    }
   },
   "outputs": [],
   "source": [
    "# Drop rank, player-id, and percentages\n",
    "to_drop = ['Rk', 'Player-additional', 'FG%', '3P%', '2P%', 'FT%', 'eFG%']\n",
    "df_2022.drop(to_drop, inplace=True, axis=1)\n",
    "df_2023.drop(to_drop, inplace=True, axis=1)"
   ]
  },
  {
   "cell_type": "code",
   "execution_count": 95,
   "metadata": {
    "pycharm": {
     "name": "#%%\n"
    }
   },
   "outputs": [
    {
     "data": {
      "text/plain": [
       "Player    object\n",
       "Pos       object\n",
       "Age        int64\n",
       "Tm        object\n",
       "G          int64\n",
       "GS         int64\n",
       "MP         int64\n",
       "FG         int64\n",
       "FGA        int64\n",
       "3P         int64\n",
       "3PA        int64\n",
       "2P         int64\n",
       "2PA        int64\n",
       "FT         int64\n",
       "FTA        int64\n",
       "ORB        int64\n",
       "DRB        int64\n",
       "TRB        int64\n",
       "AST        int64\n",
       "STL        int64\n",
       "BLK        int64\n",
       "TOV        int64\n",
       "PF         int64\n",
       "PTS        int64\n",
       "dtype: object"
      ]
     },
     "execution_count": 95,
     "metadata": {},
     "output_type": "execute_result"
    }
   ],
   "source": [
    "df_2022.dtypes"
   ]
  },
  {
   "cell_type": "code",
   "execution_count": 96,
   "metadata": {
    "pycharm": {
     "name": "#%%\n"
    }
   },
   "outputs": [
    {
     "data": {
      "text/plain": [
       "Player    object\n",
       "Pos       object\n",
       "Age        int64\n",
       "Tm        object\n",
       "G          int64\n",
       "GS         int64\n",
       "MP         int64\n",
       "FG         int64\n",
       "FGA        int64\n",
       "3P         int64\n",
       "3PA        int64\n",
       "2P         int64\n",
       "2PA        int64\n",
       "FT         int64\n",
       "FTA        int64\n",
       "ORB        int64\n",
       "DRB        int64\n",
       "TRB        int64\n",
       "AST        int64\n",
       "STL        int64\n",
       "BLK        int64\n",
       "TOV        int64\n",
       "PF         int64\n",
       "PTS        int64\n",
       "dtype: object"
      ]
     },
     "execution_count": 96,
     "metadata": {},
     "output_type": "execute_result"
    }
   ],
   "source": [
    "df_2023.dtypes"
   ]
  },
  {
   "cell_type": "code",
   "execution_count": 97,
   "metadata": {
    "pycharm": {
     "name": "#%%\n"
    }
   },
   "outputs": [
    {
     "name": "stdout",
     "output_type": "stream",
     "text": [
      "Missing values distribution: \n",
      "Player    0.0\n",
      "Pos       0.0\n",
      "Age       0.0\n",
      "Tm        0.0\n",
      "G         0.0\n",
      "GS        0.0\n",
      "MP        0.0\n",
      "FG        0.0\n",
      "FGA       0.0\n",
      "3P        0.0\n",
      "3PA       0.0\n",
      "2P        0.0\n",
      "2PA       0.0\n",
      "FT        0.0\n",
      "FTA       0.0\n",
      "ORB       0.0\n",
      "DRB       0.0\n",
      "TRB       0.0\n",
      "AST       0.0\n",
      "STL       0.0\n",
      "BLK       0.0\n",
      "TOV       0.0\n",
      "PF        0.0\n",
      "PTS       0.0\n",
      "dtype: float64\n",
      "\n"
     ]
    }
   ],
   "source": [
    "# Check for completeness \n",
    "print(\"Missing values distribution: \")\n",
    "print(df_2022.isnull().mean())\n",
    "print(\"\")"
   ]
  },
  {
   "cell_type": "code",
   "execution_count": 98,
   "metadata": {
    "pycharm": {
     "name": "#%%\n"
    }
   },
   "outputs": [
    {
     "name": "stdout",
     "output_type": "stream",
     "text": [
      "Missing values distribution: \n",
      "Player    0.0\n",
      "Pos       0.0\n",
      "Age       0.0\n",
      "Tm        0.0\n",
      "G         0.0\n",
      "GS        0.0\n",
      "MP        0.0\n",
      "FG        0.0\n",
      "FGA       0.0\n",
      "3P        0.0\n",
      "3PA       0.0\n",
      "2P        0.0\n",
      "2PA       0.0\n",
      "FT        0.0\n",
      "FTA       0.0\n",
      "ORB       0.0\n",
      "DRB       0.0\n",
      "TRB       0.0\n",
      "AST       0.0\n",
      "STL       0.0\n",
      "BLK       0.0\n",
      "TOV       0.0\n",
      "PF        0.0\n",
      "PTS       0.0\n",
      "dtype: float64\n",
      "\n"
     ]
    }
   ],
   "source": [
    "print(\"Missing values distribution: \")\n",
    "print(df_2023.isnull().mean())\n",
    "print(\"\")"
   ]
  },
  {
   "cell_type": "code",
   "execution_count": null,
   "outputs": [],
   "source": [
    "df_2022.to_csv('interim/2022_cleaned.csv')\n",
    "df_2023.to_csv('interim/2023_cleaned.csv')"
   ],
   "metadata": {
    "collapsed": false,
    "pycharm": {
     "name": "#%%\n"
    }
   }
  },
  {
   "cell_type": "code",
   "execution_count": 99,
   "metadata": {},
   "outputs": [],
   "source": [
    "df_2022.to_csv('interim/2022_cleaned.csv')\n",
    "df_2023.to_csv('interim/2023_cleaned.csv')"
   ]
  }
 ],
 "metadata": {
  "kernelspec": {
   "display_name": "Python 3 (ipykernel)",
   "language": "python",
   "name": "python3"
  },
  "language_info": {
   "codemirror_mode": {
    "name": "ipython",
    "version": 3
   },
   "file_extension": ".py",
   "mimetype": "text/x-python",
   "name": "python",
   "nbconvert_exporter": "python",
   "pygments_lexer": "ipython3",
   "version": "3.9.12"
  }
 },
 "nbformat": 4,
 "nbformat_minor": 1
}